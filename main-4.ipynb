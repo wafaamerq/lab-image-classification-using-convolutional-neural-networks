{
  "cells": [
    {
      "cell_type": "markdown",
      "metadata": {
        "id": "r4rCKcndPybL"
      },
      "source": [
        "# Lab : Image Classification using Convolutional Neural Networks\n",
        "\n",
        "At the end of this laboratory, you would get familiarized with\n",
        "\n",
        "*   Creating deep networks using Keras\n",
        "*   Steps necessary in training a neural network\n",
        "*   Prediction and performance analysis using neural networks\n",
        "\n",
        "---"
      ]
    },
    {
      "cell_type": "markdown",
      "metadata": {
        "id": "KdglSzOi4Cp-"
      },
      "source": [
        "# **In case you use a colaboratory environment**\n",
        "By default, Colab notebooks run on CPU.\n",
        "You can switch your notebook to run with GPU.\n",
        "\n",
        "In order to obtain access to the GPU, you need to choose the tab Runtime and then select “Change runtime type” as shown in the following figure:\n",
        "\n",
        "![Changing runtime](https://miro.medium.com/max/747/1*euE7nGZ0uJQcgvkpgvkoQg.png)\n",
        "\n",
        "When a pop-up window appears select GPU. Ensure “Hardware accelerator” is set to GPU."
      ]
    },
    {
      "cell_type": "markdown",
      "metadata": {
        "id": "9wkicuxZdrdq"
      },
      "source": [
        "# **Working with a new dataset: CIFAR-10**\n",
        "\n",
        "The CIFAR-10 dataset consists of 60000 32x32 colour images in 10 classes, with 6000 images per class. There are 50000 training images and 10000 test images. More information about CIFAR-10 can be found [here](https://www.cs.toronto.edu/~kriz/cifar.html).\n",
        "\n",
        "In Keras, the CIFAR-10 dataset is also preloaded in the form of four Numpy arrays. x_train and y_train contain the training set, while x_test and y_test contain the test data. The images are encoded as Numpy arrays and their corresponding labels ranging from 0 to 9.\n",
        "\n",
        "Your task is to:\n",
        "\n",
        "*   Visualize the images in CIFAR-10 dataset. Create a 10 x 10 plot showing 10 random samples from each class.\n",
        "*   Convert the labels to one-hot encoded form.\n",
        "*   Normalize the images.\n",
        "\n",
        "\n"
      ]
    },
    {
      "cell_type": "code",
      "execution_count": null,
      "metadata": {
        "id": "Mrb20KGMtTFq"
      },
      "outputs": [],
      "source": [
        "import numpy as np\n",
        "import matplotlib.pyplot as plt\n",
        "from tensorflow.keras.datasets import cifar10\n",
        "from tensorflow.keras.utils import to_categorical\n",
        "\n",
        "# Load CIFAR-10 dataset\n",
        "(x_train, y_train), (x_test, y_test) = cifar10.load_data()"
      ]
    },
    {
      "cell_type": "code",
      "execution_count": null,
      "metadata": {
        "colab": {
          "base_uri": "https://localhost:8080/",
          "height": 858
        },
        "id": "mGjEYXkGl3ms",
        "outputId": "152a4870-344f-4f5d-f5ff-151f10795ec8"
      },
      "outputs": [],
      "source": [
        "# Define class names\n",
        "class_names = ['airplane', 'automobile', 'bird', 'cat', 'deer',\n",
        "               'dog', 'frog', 'horse', 'ship', 'truck']\n",
        "\n",
        "# Visualize 10 random images per class\n",
        "fig, axes = plt.subplots(10, 10, figsize=(10, 10))\n",
        "plt.subplots_adjust(hspace=0.5, wspace=0.5)\n",
        "\n",
        "for i in range(10):  # Loop through each class\n",
        "    class_indices = np.where(y_train.flatten() == i)[0]\n",
        "    selected_indices = np.random.choice(class_indices, 10, replace=False)\n",
        "\n",
        "    for j, idx in enumerate(selected_indices):\n",
        "        ax = axes[i, j]\n",
        "        ax.imshow(x_train[idx])\n",
        "        ax.axis('off')\n",
        "\n",
        "plt.show()\n",
        "\n",
        "# Convert labels to one-hot encoded format\n",
        "y_train = to_categorical(y_train, 10)\n",
        "y_test = to_categorical(y_test, 10)\n",
        "\n",
        "# Normalize images to the range [0, 1]\n",
        "x_train = x_train.astype('float32') / 255.0\n",
        "x_test = x_test.astype('float32') / 255.0\n",
        "\n",
        "print(\"Data Preprocessing Completed!\")\n",
        "print(f\"x_train shape: {x_train.shape}, y_train shape: {y_train.shape}\")\n",
        "print(f\"x_test shape: {x_test.shape}, y_test shape: {y_test.shape}\")"
      ]
    },
    {
      "cell_type": "markdown",
      "metadata": {
        "id": "2ER5WlMNRydp"
      },
      "source": [
        "## Define the following model (same as the one in tutorial)\n",
        "\n",
        "For the convolutional front-end, start with a single convolutional layer with a small filter size (3,3) and a modest number of filters (32) followed by a max pooling layer.\n",
        "\n",
        "Use the input as (32,32,3).\n",
        "\n",
        "The filter maps can then be flattened to provide features to the classifier.\n",
        "\n",
        "Use a dense layer with 100 units before the classification layer (which is also a dense layer with softmax activation)."
      ]
    },
    {
      "cell_type": "code",
      "execution_count": null,
      "metadata": {
        "id": "WfWCHxh8HGhN"
      },
      "outputs": [],
      "source": [
        "from keras.backend import clear_session\n",
        "clear_session()"
      ]
    },
    {
      "cell_type": "code",
      "execution_count": null,
      "metadata": {
        "colab": {
          "base_uri": "https://localhost:8080/",
          "height": 343
        },
        "id": "iSN6riPISBMG",
        "outputId": "be92dce5-47d6-4c00-9c63-65fc48b8489f"
      },
      "outputs": [],
      "source": [
        "import numpy as np\n",
        "import matplotlib.pyplot as plt\n",
        "from tensorflow.keras.models import Sequential\n",
        "from tensorflow.keras.layers import Conv2D, MaxPooling2D, Flatten, Dense\n",
        "from tensorflow.keras.utils import to_categorical\n",
        "from tensorflow.keras.datasets import cifar10\n",
        "from tensorflow.keras.backend import clear_session\n",
        "\n",
        "# # Clear previous session\n",
        "# clear_session()\n",
        "\n",
        "# Load CIFAR-10 dataset\n",
        "# (x_train, y_train), (x_test, y_test) = cifar10.load_data()\n",
        "\n",
        "# # Normalize images\n",
        "# x_train = x_train.astype('float32') / 255.0\n",
        "# x_test = x_test.astype('float32') / 255.0\n",
        "\n",
        "# # Convert labels to one-hot encoding\n",
        "# y_train = to_categorical(y_train, 10)\n",
        "# y_test = to_categorical(y_test, 10)\n",
        "\n",
        "# Define the CNN model\n",
        "model = Sequential([\n",
        "    Conv2D(32, (3,3), input_shape=(32, 32, 3)),  # Convolutional Layer\n",
        "    MaxPooling2D(pool_size=(2,2)),  # Max Pooling Layer\n",
        "    Flatten(),  # Flatten the feature maps\n",
        "    Dense(100, activation='relu'),  # Fully Connected Layer with 100 neurons\n",
        "    Dense(10, activation='softmax')  # Output Layer for classification (10 classes)\n",
        "])\n",
        "\n",
        "# # Compile the model\n",
        "# model.compile(optimizer='adam', loss='categorical_crossentropy', metrics=['accuracy'])\n",
        "\n",
        "# Print model summary\n",
        "# model.summary()\n"
      ]
    },
    {
      "cell_type": "markdown",
      "metadata": {
        "id": "PGtivbQJT39U"
      },
      "source": [
        "*   Compile the model using categorical_crossentropy loss, SGD optimizer and use 'accuracy' as the metric.\n",
        "*   Use the above defined model to train CIFAR-10 and train the model for 50 epochs with a batch size of 512."
      ]
    },
    {
      "cell_type": "code",
      "execution_count": null,
      "metadata": {
        "colab": {
          "base_uri": "https://localhost:8080/",
          "height": 1000
        },
        "id": "hn8UzPBZugVp",
        "outputId": "36edc798-642b-4a93-afc9-16c6e2154eb6"
      },
      "outputs": [],
      "source": [
        "import numpy as np\n",
        "import matplotlib.pyplot as plt\n",
        "from tensorflow.keras.models import Sequential\n",
        "from tensorflow.keras.layers import Conv2D, MaxPooling2D, Flatten, Dense\n",
        "from tensorflow.keras.utils import to_categorical\n",
        "from tensorflow.keras.datasets import cifar10\n",
        "from tensorflow.keras.optimizers import SGD\n",
        "from tensorflow.keras.backend import clear_session\n",
        "\n",
        "# # Clear previous session\n",
        "# clear_session()\n",
        "\n",
        "# # Load CIFAR-10 dataset\n",
        "# (x_train, y_train), (x_test, y_test) = cifar10.load_data()\n",
        "\n",
        "# # Normalize images\n",
        "# x_train = x_train.astype('float32') / 255.0\n",
        "# x_test = x_test.astype('float32') / 255.0\n",
        "\n",
        "# # Convert labels to one-hot encoding\n",
        "# y_train = to_categorical(y_train, 10)\n",
        "# y_test = to_categorical(y_test, 10)\n",
        "\n",
        "# # Define the CNN model\n",
        "# model = Sequential([\n",
        "#     Conv2D(32, (3,3), activation='relu', input_shape=(32, 32, 3)),  # Convolutional Layer\n",
        "#     MaxPooling2D(pool_size=(2,2)),  # Max Pooling Layer\n",
        "#     Flatten(),  # Flatten the feature maps\n",
        "#     Dense(100, activation='relu'),  # Fully Connected Layer with 100 neurons\n",
        "#     Dense(10, activation='softmax')  # Output Layer for classification (10 classes)\n",
        "# ])\n",
        "\n",
        "# Compile the model with SGD optimizer\n",
        "model.compile(optimizer=SGD(learning_rate=0.01, momentum=0.9),\n",
        "              loss='categorical_crossentropy',\n",
        "              metrics=['accuracy'])\n",
        "\n",
        "# Train the model for 50 epochs with batch size of 512\n",
        "history = model.fit(x_train, y_train,\n",
        "                    epochs=50,\n",
        "                    batch_size=512,\n",
        "                    validation_data=(x_test, y_test))\n",
        "\n",
        "# # Plot training & validation accuracy\n",
        "# plt.plot(history.history['accuracy'], label='Train Accuracy')\n",
        "# plt.plot(history.history['val_accuracy'], label='Validation Accuracy')\n",
        "# plt.xlabel('Epochs')\n",
        "# plt.ylabel('Accuracy')\n",
        "# plt.legend()\n",
        "# plt.title('Model Accuracy')\n",
        "# plt.show()\n",
        "\n",
        "# Evaluate on test data\n",
        "# test_loss, test_acc = model.evaluate(x_test, y_test, verbose=2)\n",
        "# print(f\"\\nTest Accuracy: {test_acc:.4f}\")\n"
      ]
    },
    {
      "cell_type": "markdown",
      "metadata": {
        "id": "V0Iroeb6l3mu"
      },
      "source": [
        "*   Plot the cross entropy loss curve and the accuracy curve"
      ]
    },
    {
      "cell_type": "code",
      "execution_count": null,
      "metadata": {
        "colab": {
          "base_uri": "https://localhost:8080/",
          "height": 1000
        },
        "id": "8SfA6fkZl3mu",
        "outputId": "2d26261f-fcbb-42fb-c06c-79f059cd6986"
      },
      "outputs": [],
      "source": [
        "import numpy as np\n",
        "import matplotlib.pyplot as plt\n",
        "from tensorflow.keras.models import Sequential\n",
        "from tensorflow.keras.layers import Conv2D, MaxPooling2D, Flatten, Dense\n",
        "from tensorflow.keras.utils import to_categorical\n",
        "from tensorflow.keras.datasets import cifar10\n",
        "from tensorflow.keras.optimizers import SGD\n",
        "from tensorflow.keras.backend import clear_session\n",
        "\n",
        "# # Clear previous session\n",
        "# clear_session()\n",
        "\n",
        "# # Load CIFAR-10 dataset\n",
        "# (x_train, y_train), (x_test, y_test) = cifar10.load_data()\n",
        "\n",
        "# # Normalize images\n",
        "# x_train = x_train.astype('float32') / 255.0\n",
        "# x_test = x_test.astype('float32') / 255.0\n",
        "\n",
        "# # Convert labels to one-hot encoding\n",
        "# y_train = to_categorical(y_train, 10)\n",
        "# y_test = to_categorical(y_test, 10)\n",
        "\n",
        "# # Define the CNN model\n",
        "# model = Sequential([\n",
        "#     Conv2D(32, (3,3), activation='relu', input_shape=(32, 32, 3)),  # Convolutional Layer\n",
        "#     MaxPooling2D(pool_size=(2,2)),  # Max Pooling Layer\n",
        "#     Flatten(),  # Flatten the feature maps\n",
        "#     Dense(100, activation='relu'),  # Fully Connected Layer with 100 neurons\n",
        "#     Dense(10, activation='softmax')  # Output Layer for classification (10 classes)\n",
        "# ])\n",
        "\n",
        "# # Compile the model with SGD optimizer\n",
        "# model.compile(optimizer=SGD(learning_rate=0.01, momentum=0.9),\n",
        "#               loss='categorical_crossentropy',\n",
        "#               metrics=['accuracy'])\n",
        "\n",
        "# # Train the model for 50 epochs with batch size of 512\n",
        "# history = model.fit(x_train, y_train,\n",
        "#                     epochs=50,\n",
        "#                     batch_size=512,\n",
        "#                     validation_data=(x_test, y_test))\n",
        "\n",
        "# Plot Training & Validation Accuracy\n",
        "plt.figure(figsize=(12, 5))\n",
        "\n",
        "plt.subplot(1, 2, 1)\n",
        "plt.plot(history.history['accuracy'], label='Train Accuracy', color='blue')\n",
        "plt.plot(history.history['val_accuracy'], label='Validation Accuracy', color='red')\n",
        "plt.xlabel('Epochs')\n",
        "plt.ylabel('Accuracy')\n",
        "plt.legend()\n",
        "plt.title('Model Accuracy')\n",
        "\n",
        "# Plot Training & Validation Loss\n",
        "plt.subplot(1, 2, 2)\n",
        "plt.plot(history.history['loss'], label='Train Loss', color='blue')\n",
        "plt.plot(history.history['val_loss'], label='Validation Loss', color='red')\n",
        "plt.xlabel('Epochs')\n",
        "plt.ylabel('Loss')\n",
        "plt.legend()\n",
        "plt.title('Cross-Entropy Loss')\n",
        "\n",
        "plt.show()\n",
        "\n",
        "# # Evaluate on test data\n",
        "# test_loss, test_acc = model.evaluate(x_test, y_test, verbose=2)\n",
        "# print(f\"\\nTest Accuracy: {test_acc:.4f}\")\n"
      ]
    },
    {
      "cell_type": "markdown",
      "metadata": {
        "id": "G2mrWK5hSB_o"
      },
      "source": [
        "## Defining Deeper Architectures: VGG Models\n",
        "\n",
        "*   Define a deeper model architecture for CIFAR-10 dataset and train the new model for 50 epochs with a batch size of 512. We will use VGG model as the architecture.\n",
        "\n",
        "Stack two convolutional layers with 32 filters, each of 3 x 3.\n",
        "\n",
        "Use a max pooling layer and next flatten the output of the previous layer and add a dense layer with 128 units before the classification layer.\n",
        "\n",
        "For all the layers, use ReLU activation function.\n",
        "\n",
        "Use same padding for the layers to ensure that the height and width of each layer output matches the input\n"
      ]
    },
    {
      "cell_type": "code",
      "execution_count": null,
      "metadata": {
        "id": "A80vLxW9FIek"
      },
      "outputs": [],
      "source": [
        "from keras.backend import clear_session\n",
        "clear_session()"
      ]
    },
    {
      "cell_type": "code",
      "execution_count": null,
      "metadata": {
        "colab": {
          "base_uri": "https://localhost:8080/",
          "height": 1000
        },
        "id": "cgca5dUNSFNc",
        "outputId": "fe6e593d-07e2-4fa1-c028-a3e14d99d434"
      },
      "outputs": [],
      "source": [
        "import numpy as np\n",
        "import matplotlib.pyplot as plt\n",
        "from tensorflow.keras.models import Sequential\n",
        "from tensorflow.keras.layers import Conv2D, MaxPooling2D, Flatten, Dense\n",
        "from tensorflow.keras.utils import to_categorical\n",
        "from tensorflow.keras.datasets import cifar10\n",
        "from tensorflow.keras.optimizers import SGD\n",
        "from tensorflow.keras.backend import clear_session\n",
        "\n",
        "# # Clear previous session\n",
        "# clear_session()\n",
        "\n",
        "# # Load CIFAR-10 dataset\n",
        "# (x_train, y_train), (x_test, y_test) = cifar10.load_data()\n",
        "\n",
        "# # Normalize images\n",
        "# x_train = x_train.astype('float32') / 255.0\n",
        "# x_test = x_test.astype('float32') / 255.0\n",
        "\n",
        "# # Convert labels to one-hot encoding\n",
        "# y_train = to_categorical(y_train, 10)\n",
        "# y_test = to_categorical(y_test, 10)\n",
        "\n",
        "# Define the VGG-like CNN model\n",
        "model = Sequential([\n",
        "    Conv2D(32, (3,3), activation='relu', padding='same', input_shape=(32, 32, 3)),  # 1st Conv Layer\n",
        "    Conv2D(32, (3,3), activation='relu', padding='same'),  # 2nd Conv Layer\n",
        "    MaxPooling2D(pool_size=(2,2)),  # Max Pooling Layer\n",
        "    Flatten(),  # Flatten the feature maps\n",
        "    Dense(128, activation='relu'),  # Fully Connected Layer with 128 neurons\n",
        "    Dense(10, activation='softmax')  # Output Layer for classification (10 classes)\n",
        "])\n",
        "\n",
        "# # Compile the model with SGD optimizer\n",
        "# model.compile(optimizer=SGD(learning_rate=0.01, momentum=0.9),\n",
        "#               loss='categorical_crossentropy',\n",
        "#               metrics=['accuracy'])\n",
        "\n",
        "# # Train the model for 50 epochs with batch size of 512\n",
        "# history = model.fit(x_train, y_train,\n",
        "#                     epochs=50,\n",
        "#                     batch_size=512,\n",
        "#                     validation_data=(x_test, y_test))\n",
        "\n",
        "# # Plot Training & Validation Accuracy\n",
        "# plt.figure(figsize=(12, 5))\n",
        "\n",
        "# plt.subplot(1, 2, 1)\n",
        "# plt.plot(history.history['accuracy'], label='Train Accuracy', color='blue')\n",
        "# plt.plot(history.history['val_accuracy'], label='Validation Accuracy', color='red')\n",
        "# plt.xlabel('Epochs')\n",
        "# plt.ylabel('Accuracy')\n",
        "# plt.legend()\n",
        "# plt.title('Model Accuracy')\n",
        "\n",
        "# # Plot Training & Validation Loss\n",
        "# plt.subplot(1, 2, 2)\n",
        "# plt.plot(history.history['loss'], label='Train Loss', color='blue')\n",
        "# plt.plot(history.history['val_loss'], label='Validation Loss', color='red')\n",
        "# plt.xlabel('Epochs')\n",
        "# plt.ylabel('Loss')\n",
        "# plt.legend()\n",
        "# plt.title('Cross-Entropy Loss')\n",
        "\n",
        "# plt.show()\n",
        "\n",
        "# # Evaluate on test data\n",
        "# test_loss, test_acc = model.evaluate(x_test, y_test, verbose=2)\n",
        "# print(f\"\\nTest Accuracy: {test_acc:.4f}\")\n"
      ]
    },
    {
      "cell_type": "markdown",
      "metadata": {
        "id": "ZwaPphEBUtlC"
      },
      "source": [
        "*   Compile the model using categorical_crossentropy loss, SGD optimizer and use 'accuracy' as the metric.\n",
        "*   Use the above defined model to train CIFAR-10 and train the model for 50 epochs with a batch size of 512."
      ]
    },
    {
      "cell_type": "code",
      "execution_count": null,
      "metadata": {
        "colab": {
          "base_uri": "https://localhost:8080/",
          "height": 1000
        },
        "id": "Bc2qtU0mUvVA",
        "outputId": "ce899dc3-c668-4da8-91c6-e9b978d4bc7b"
      },
      "outputs": [],
      "source": [
        "import numpy as np\n",
        "import matplotlib.pyplot as plt\n",
        "from tensorflow.keras.models import Sequential\n",
        "from tensorflow.keras.layers import Conv2D, MaxPooling2D, Flatten, Dense\n",
        "from tensorflow.keras.utils import to_categorical\n",
        "from tensorflow.keras.datasets import cifar10\n",
        "from tensorflow.keras.optimizers import SGD\n",
        "from tensorflow.keras.backend import clear_session\n",
        "\n",
        "# # Clear previous session\n",
        "# clear_session()\n",
        "\n",
        "# # Load CIFAR-10 dataset\n",
        "# (x_train, y_train), (x_test, y_test) = cifar10.load_data()\n",
        "\n",
        "# # Normalize images\n",
        "# x_train = x_train.astype('float32') / 255.0\n",
        "# x_test = x_test.astype('float32') / 255.0\n",
        "\n",
        "# # Convert labels to one-hot encoding\n",
        "# y_train = to_categorical(y_train, 10)\n",
        "# y_test = to_categorical(y_test, 10)\n",
        "\n",
        "# # Define the VGG-like CNN model\n",
        "# model = Sequential([\n",
        "#     Conv2D(32, (3,3), activation='relu', padding='same', input_shape=(32, 32, 3)),  # 1st Conv Layer\n",
        "#     Conv2D(32, (3,3), activation='relu', padding='same'),  # 2nd Conv Layer\n",
        "#     MaxPooling2D(pool_size=(2,2)),  # Max Pooling Layer\n",
        "#     Flatten(),  # Flatten the feature maps\n",
        "#     Dense(128, activation='relu'),  # Fully Connected Layer with 128 neurons\n",
        "#     Dense(10, activation='softmax')  # Output Layer for classification (10 classes)\n",
        "# ])\n",
        "\n",
        "# # Compile the model using SGD optimizer\n",
        "# model.compile(optimizer=SGD(learning_rate=0.01, momentum=0.9),\n",
        "#               loss='categorical_crossentropy',\n",
        "#               metrics=['accuracy'])\n",
        "\n",
        "# # Train the model for 50 epochs with batch size of 512\n",
        "# history = model.fit(x_train, y_train,\n",
        "#                     epochs=50,\n",
        "#                     batch_size=512,\n",
        "#                     validation_data=(x_test, y_test))\n",
        "\n",
        "# Plot Training & Validation Accuracy\n",
        "plt.figure(figsize=(12, 5))\n",
        "\n",
        "plt.subplot(1, 2, 1)\n",
        "plt.plot(history.history['accuracy'], label='Train Accuracy', color='blue')\n",
        "plt.plot(history.history['val_accuracy'], label='Validation Accuracy', color='red')\n",
        "plt.xlabel('Epochs')\n",
        "plt.ylabel('Accuracy')\n",
        "plt.legend()\n",
        "plt.title('Model Accuracy')\n",
        "\n",
        "# Plot Training & Validation Loss\n",
        "plt.subplot(1, 2, 2)\n",
        "plt.plot(history.history['loss'], label='Train Loss', color='blue')\n",
        "plt.plot(history.history['val_loss'], label='Validation Loss', color='red')\n",
        "plt.xlabel('Epochs')\n",
        "plt.ylabel('Loss')\n",
        "plt.legend()\n",
        "plt.title('Cross-Entropy Loss')\n",
        "\n",
        "plt.show()\n",
        "\n",
        "\n"
      ]
    },
    {
      "cell_type": "markdown",
      "metadata": {
        "id": "_2cRr2ZFSFds"
      },
      "source": [
        "*   Compare the performance of both the models by plotting the loss and accuracy curves of both the training steps. Does the deeper model perform better? Comment on the observation.\n"
      ]
    },
    {
      "cell_type": "code",
      "execution_count": null,
      "metadata": {
        "id": "F8OSHAf5SJPr"
      },
      "outputs": [],
      "source": [
        "import numpy as np\n",
        "import matplotlib.pyplot as plt\n",
        "from tensorflow.keras.models import Sequential\n",
        "from tensorflow.keras.layers import Conv2D, MaxPooling2D, Flatten, Dense\n",
        "from tensorflow.keras.utils import to_categorical\n",
        "from tensorflow.keras.datasets import cifar10\n",
        "from tensorflow.keras.optimizers import SGD\n",
        "from tensorflow.keras.backend import clear_session\n",
        "\n",
        "# Function to create a shallow model\n",
        "def create_shallow_model():\n",
        "    model = Sequential([\n",
        "        Conv2D(32, (3,3), activation='relu', input_shape=(32, 32, 3)),\n",
        "        MaxPooling2D(pool_size=(2,2)),\n",
        "        Flatten(),\n",
        "        Dense(100, activation='relu'),\n",
        "        Dense(10, activation='softmax')\n",
        "    ])\n",
        "    return model\n",
        "\n",
        "# Function to create a deeper VGG-style model\n",
        "def create_deep_model():\n",
        "    model = Sequential([\n",
        "        Conv2D(32, (3,3), activation='relu', padding='same', input_shape=(32, 32, 3)),\n",
        "        Conv2D(32, (3,3), activation='relu', padding='same'),\n",
        "        MaxPooling2D(pool_size=(2,2)),\n",
        "        Flatten(),\n",
        "        Dense(128, activation='relu'),\n",
        "        Dense(10, activation='softmax')\n",
        "    ])\n",
        "    return model\n",
        "\n",
        "# Load CIFAR-10 dataset\n",
        "(x_train, y_train), (x_test, y_test) = cifar10.load_data()\n",
        "\n",
        "# Normalize images\n",
        "x_train = x_train.astype('float32') / 255.0\n",
        "x_test = x_test.astype('float32') / 255.0\n",
        "\n",
        "# Convert labels to one-hot encoding\n",
        "y_train = to_categorical(y_train, 10)\n",
        "y_test = to_categorical(y_test, 10)\n",
        "\n",
        "# Training hyperparameters\n",
        "epochs = 50\n",
        "batch_size = 512\n",
        "optimizer = SGD(learning_rate=0.01, momentum=0.9)\n",
        "\n",
        "#clear_session()\n",
        "#deep_model = create_deep_model()\n",
        "#deep_model.compile(optimizer=optimizer, loss='categorical_crossentropy', metrics=['accuracy'])\n",
        "#deep_history = deep_model.fit(x_train, y_train, epochs=epochs, batch_size=batch_size, validation_data=(x_test, y_test))\n",
        "\n",
        "# Plot Accuracy Curves for Both Models\n"
      ]
    },
    {
      "cell_type": "markdown",
      "metadata": {
        "id": "Ri9kU3wa3Rei"
      },
      "source": [
        "**Comment on the observation**\n",
        "\n",
        "*(Double-click or enter to edit)*\n",
        "\n",
        "..."
      ]
    },
    {
      "cell_type": "markdown",
      "metadata": {
        "id": "MzXmO1WoSKMY"
      },
      "source": [
        "*   Use predict function to predict the output for the test split\n",
        "*   Plot the confusion matrix for the new model and comment on the class confusions.\n"
      ]
    },
    {
      "cell_type": "code",
      "execution_count": null,
      "metadata": {
        "id": "DObaoxhaSMUg"
      },
      "outputs": [],
      "source": [
        "import numpy as np\n",
        "import matplotlib.pyplot as plt\n",
        "from tensorflow.keras.models import Sequential\n",
        "from tensorflow.keras.layers import Conv2D, MaxPooling2D, Flatten, Dense\n",
        "from tensorflow.keras.utils import to_categorical\n",
        "from tensorflow.keras.datasets import cifar10\n",
        "from tensorflow.keras.optimizers import SGD\n",
        "from tensorflow.keras.backend import clear_session\n",
        "\n",
        "# Function to create a shallow model\n",
        "def create_shallow_model():\n",
        "    model = Sequential([\n",
        "        Conv2D(32, (3,3), activation='relu', input_shape=(32, 32, 3)),\n",
        "        MaxPooling2D(pool_size=(2,2)),\n",
        "        Flatten(),\n",
        "        Dense(100, activation='relu'),\n",
        "        Dense(10, activation='softmax')\n",
        "    ])\n",
        "    return model\n",
        "\n",
        "# Function to create a deeper VGG-style model\n",
        "def create_deep_model():\n",
        "    model = Sequential([\n",
        "        Conv2D(32, (3,3), activation='relu', padding='same', input_shape=(32, 32, 3)),\n",
        "        Conv2D(32, (3,3), activation='relu', padding='same'),\n",
        "        MaxPooling2D(pool_size=(2,2)),\n",
        "        Flatten(),\n",
        "        Dense(128, activation='relu'),\n",
        "        Dense(10, activation='softmax')\n",
        "    ])\n",
        "    return model\n",
        "\n"
      ]
    },
    {
      "cell_type": "markdown",
      "metadata": {
        "id": "WUBrvRomU5O_"
      },
      "source": [
        "**Comment here :**\n",
        "\n",
        "*(Double-click or enter to edit)*\n",
        "\n",
        "..."
      ]
    },
    {
      "cell_type": "markdown",
      "metadata": {
        "id": "u1BM6O4EqeiZ"
      },
      "source": []
    },
    {
      "cell_type": "markdown",
      "metadata": {
        "id": "GssTyfUSs2Pz"
      },
      "source": []
    },
    {
      "cell_type": "markdown",
      "metadata": {
        "id": "ffwVz-FLSNG7"
      },
      "source": [
        "*    Print the test accuracy for the trained model."
      ]
    },
    {
      "cell_type": "code",
      "execution_count": null,
      "metadata": {
        "colab": {
          "base_uri": "https://localhost:8080/"
        },
        "id": "L4WX3_uLSN5I",
        "outputId": "e2ed3540-c9d5-4867-c943-59645af4a741"
      },
      "outputs": [],
      "source": [
        "\n",
        "# Print the test accuracy\n",
        "print(f\"\\nTest Accuracy: {test_acc:.4f}\")\n"
      ]
    },
    {
      "cell_type": "markdown",
      "metadata": {
        "id": "dySqfA6PVBjQ"
      },
      "source": [
        "## Define the complete VGG architecture.\n",
        "\n",
        "Stack two convolutional layers with 64 filters, each of 3 x 3 followed by max pooling layer.\n",
        "\n",
        "Stack two more convolutional layers with 128 filters, each of 3 x 3, followed by max pooling, followed by two more convolutional layers with 256 filters, each of 3 x 3, followed by max pooling.\n",
        "\n",
        "Flatten the output of the previous layer and add a dense layer with 128 units before the classification layer.\n",
        "\n",
        "For all the layers, use ReLU activation function.\n",
        "\n",
        "Use same padding for the layers to ensure that the height and width of each layer output matches the input\n",
        "\n",
        "*   Change the size of input to 64 x 64."
      ]
    },
    {
      "cell_type": "code",
      "execution_count": null,
      "metadata": {
        "id": "zm35siILFNT0"
      },
      "outputs": [],
      "source": [
        "from keras.backend import clear_session\n",
        "clear_session()"
      ]
    },
    {
      "cell_type": "code",
      "execution_count": null,
      "metadata": {
        "colab": {
          "base_uri": "https://localhost:8080/",
          "height": 1000
        },
        "id": "oH4lDVBuVA_Q",
        "outputId": "4dd519b3-4451-47bb-87c2-25839271adf7"
      },
      "outputs": [],
      "source": [
        "import numpy as np\n",
        "import matplotlib.pyplot as plt\n",
        "from tensorflow.keras.models import Sequential\n",
        "from tensorflow.keras.layers import Conv2D, MaxPooling2D, Flatten, Dense\n",
        "from tensorflow.keras.utils import to_categorical\n",
        "from tensorflow.keras.datasets import cifar10\n",
        "from tensorflow.keras.optimizers import SGD\n",
        "from tensorflow.keras.backend import clear_session\n",
        "import tensorflow as tf\n",
        "\n",
        "# Define VGG-style model\n",
        "def create_vgg_model():\n",
        "    model = Sequential([\n",
        "        # Block 1: Two Conv layers with 64 filters + Max Pooling\n",
        "        Conv2D(64, (3,3), activation='relu', padding='same', input_shape=(64, 64, 3)),\n",
        "        Conv2D(64, (3,3), activation='relu', padding='same'),\n",
        "        MaxPooling2D(pool_size=(2,2)),\n",
        "\n",
        "        # Block 2: Two Conv layers with 128 filters + Max Pooling\n",
        "        Conv2D(128, (3,3), activation='relu', padding='same'),\n",
        "        Conv2D(128, (3,3), activation='relu', padding='same'),\n",
        "        MaxPooling2D(pool_size=(2,2)),\n",
        "\n",
        "        # Block 3: Two Conv layers with 256 filters + Max Pooling\n",
        "        Conv2D(256, (3,3), activation='relu', padding='same'),\n",
        "        Conv2D(256, (3,3), activation='relu', padding='same'),\n",
        "        MaxPooling2D(pool_size=(2,2)),\n",
        "\n",
        "        # Fully Connected Layers\n",
        "        Flatten(),\n",
        "        Dense(128, activation='relu'),\n",
        "        Dense(10, activation='softmax')\n",
        "    ])\n",
        "    return model\n",
        "\n",
        "# Load CIFAR-10 dataset\n",
        "(x_train, y_train), (x_test, y_test) = cifar10.load_data()\n",
        "\n",
        "# Resize images to 64x64 using TensorFlow\n",
        "x_train = tf.image.resize(x_train, (64, 64)) / 255.0\n",
        "x_test = tf.image.resize(x_test, (64, 64)) / 255.0\n",
        "\n",
        "# Convert labels to one-hot encoding\n",
        "y_train = to_categorical(y_train, 10)\n",
        "y_test = to_categorical(y_test, 10)\n",
        "\n",
        "# Clear session and create model\n",
        "clear_session()\n",
        "vgg_model = create_vgg_model()\n",
        "\n",
        "# Compile model\n",
        "optimizer = SGD(learning_rate=0.01, momentum=0.9)\n",
        "vgg_model.compile(optimizer=optimizer, loss='categorical_crossentropy', metrics=['accuracy'])\n",
        "\n",
        "# Train model\n",
        "epochs = 50\n",
        "batch_size = 512\n",
        "history = vgg_model.fit(x_train, y_train, epochs=epochs, batch_size=batch_size, validation_data=(x_test, y_test))\n",
        "\n",
        "# Print model summary\n",
        "vgg_model.summary()\n"
      ]
    },
    {
      "cell_type": "markdown",
      "metadata": {
        "id": "Qu_B8kJGWhcM"
      },
      "source": [
        "*   Compile the model using categorical_crossentropy loss, SGD optimizer and use 'accuracy' as the metric.\n",
        "*   Use the above defined model to train CIFAR-10 and train the model for 10 epochs with a batch size of 512.\n",
        "*   Predict the output for the test split and plot the confusion matrix for the new model and comment on the class confusions."
      ]
    },
    {
      "cell_type": "code",
      "execution_count": null,
      "metadata": {
        "colab": {
          "base_uri": "https://localhost:8080/",
          "height": 1000
        },
        "id": "4elnDWnjEbmO",
        "outputId": "85162888-4290-4e97-a899-7aa6f8b9130b"
      },
      "outputs": [],
      "source": [
        "import numpy as np\n",
        "import matplotlib.pyplot as plt\n",
        "import seaborn as sns\n",
        "from sklearn.metrics import confusion_matrix, classification_report\n",
        "import tensorflow as tf\n",
        "from tensorflow.keras.models import Sequential\n",
        "from tensorflow.keras.layers import Conv2D, MaxPooling2D, Flatten, Dense\n",
        "from tensorflow.keras.utils import to_categorical\n",
        "from tensorflow.keras.datasets import cifar10\n",
        "from tensorflow.keras.optimizers import SGD\n",
        "from tensorflow.keras.backend import clear_session\n",
        "\n",
        "# CIFAR-10 class names\n",
        "class_names = ['airplane', 'automobile', 'bird', 'cat', 'deer',\n",
        "               'dog', 'frog', 'horse', 'ship', 'truck']\n",
        "\n",
        "# Define VGG-style model\n",
        "def create_vgg_model():\n",
        "    model = Sequential([\n",
        "        # Block 1\n",
        "        Conv2D(64, (3,3), activation='relu', padding='same', input_shape=(64, 64, 3)),\n",
        "        Conv2D(64, (3,3), activation='relu', padding='same'),\n",
        "        MaxPooling2D(pool_size=(2,2)),\n",
        "\n",
        "        # Block 2\n",
        "        Conv2D(128, (3,3), activation='relu', padding='same'),\n",
        "        Conv2D(128, (3,3), activation='relu', padding='same'),\n",
        "        MaxPooling2D(pool_size=(2,2)),\n",
        "\n",
        "        # Block 3\n",
        "        Conv2D(256, (3,3), activation='relu', padding='same'),\n",
        "        Conv2D(256, (3,3), activation='relu', padding='same'),\n",
        "        MaxPooling2D(pool_size=(2,2)),\n",
        "\n",
        "        # Fully Connected Layers\n",
        "        Flatten(),\n",
        "        Dense(128, activation='relu'),\n",
        "        Dense(10, activation='softmax')\n",
        "    ])\n",
        "    return model\n",
        "\n",
        "# Load CIFAR-10 dataset\n",
        "#(x_train, y_train), (x_test, y_test) = cifar10.load_data()\n",
        "\n",
        "# Resize images to 64x64 using TensorFlow\n",
        "x_train = tf.image.resize(x_train, (64, 64)) / 255.0\n",
        "x_test = tf.image.resize(x_test, (64, 64)) / 255.0\n",
        "\n",
        "# Convert labels to one-hot encoding\n",
        "y_train = to_categorical(y_train, 10)\n",
        "y_test = to_categorical(y_test, 10)\n",
        "\n",
        "# Clear session and create model\n",
        "#clear_session()\n",
        "#vgg_model = create_vgg_model()\n",
        "\n",
        "# Compile model\n",
        "#optimizer = SGD(learning_rate=0.01, momentum=0.9)\n",
        "#vgg_model.compile(optimizer=optimizer, loss='categorical_crossentropy', metrics=['accuracy'])\n",
        "\n",
        "# Train model for 10 epochs\n",
        "epochs = 10\n",
        "batch_size = 512\n",
        "history = vgg_model.fit(x_train, y_train, epochs=epochs, batch_size=batch_size, validation_data=(x_test, y_test))\n",
        "\n",
        "# Predict on the test set\n",
        "y_pred_probs = vgg_model.predict(x_test)  # Get softmax probabilities\n",
        "y_pred = np.argmax(y_pred_probs, axis=1)  # Convert to class labels\n",
        "y_true = np.argmax(y_test, axis=1)  # Convert one-hot labels to class labels\n",
        "\n",
        "# Compute confusion matrix\n",
        "conf_matrix = confusion_matrix(y_true, y_pred)\n",
        "\n",
        "# Plot confusion matrix\n",
        "plt.figure(figsize=(10,8))\n",
        "sns.heatmap(conf_matrix, annot=True, fmt=\"d\", cmap=\"Blues\", xticklabels=class_names, yticklabels=class_names)\n",
        "plt.xlabel('Predicted Label')\n",
        "plt.ylabel('True Label')\n",
        "plt.title('Confusion Matrix - VGG Model on CIFAR-10')\n",
        "plt.show()\n",
        "\n",
        "# Print Classification Report\n",
        "print(\"Classification Report:\\n\", classification_report(y_true, y_pred, target_names=class_names))\n"
      ]
    },
    {
      "cell_type": "markdown",
      "metadata": {
        "id": "2dlzFt0SXGDQ"
      },
      "source": [
        "# Understanding deep networks\n",
        "\n",
        "*   What is the use of activation functions in network? Why is it needed?\n",
        "*   We have used softmax activation function in the exercise. There are other activation functions available too. What is the difference between sigmoid activation and softmax activation?\n",
        "*   What is the difference between categorical crossentropy and binary crossentropy loss?"
      ]
    },
    {
      "cell_type": "markdown",
      "metadata": {
        "id": "sPy_1EWXX6fp"
      },
      "source": [
        "**Write the answers below :**\n",
        "\n",
        "1 - Use of activation functions:\n",
        "\n",
        "allowing them to learn complex patterns.\n",
        "\n",
        "_\n",
        "\n",
        "2 - Key Differences between sigmoid and softmax:\n",
        "\n",
        "Softmax is good for choosing one out of multiple classes\n",
        "\n",
        "_\n",
        "\n",
        "3 - Key Differences between categorical crossentropy and binary crossentropy loss:\n",
        "\n",
        "Binary Crossentropy is used for \"Yes/No\" problems\n",
        "\n",
        "_\n"
      ]
    }
  ],
  "metadata": {
    "accelerator": "GPU",
    "colab": {
      "provenance": [],
      "toc_visible": true
    },
    "kernelspec": {
      "display_name": "Python 3",
      "name": "python3"
    },
    "language_info": {
      "codemirror_mode": {
        "name": "ipython",
        "version": 3
      },
      "file_extension": ".py",
      "mimetype": "text/x-python",
      "name": "python",
      "nbconvert_exporter": "python",
      "pygments_lexer": "ipython3",
      "version": "3.11.9"
    }
  },
  "nbformat": 4,
  "nbformat_minor": 0
}
